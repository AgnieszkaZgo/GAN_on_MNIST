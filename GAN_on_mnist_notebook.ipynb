{
 "cells": [
  {
   "cell_type": "markdown",
   "metadata": {},
   "source": [
    "# Generative Adversarial Network on MNIST database using Keras."
   ]
  },
  {
   "cell_type": "markdown",
   "metadata": {},
   "source": [
    "We start our project with importing all python tools needed. We also import MNIST database with 60000 images of handwritten digits."
   ]
  },
  {
   "cell_type": "code",
   "execution_count": 1,
   "metadata": {},
   "outputs": [
    {
     "name": "stderr",
     "output_type": "stream",
     "text": [
      "/home/agnieszka/anaconda3/lib/python3.6/site-packages/h5py/__init__.py:36: FutureWarning: Conversion of the second argument of issubdtype from `float` to `np.floating` is deprecated. In future, it will be treated as `np.float64 == np.dtype(float).type`.\n",
      "  from ._conv import register_converters as _register_converters\n",
      "Using TensorFlow backend.\n"
     ]
    }
   ],
   "source": [
    "import numpy as np\n",
    "\n",
    "from keras.models import Sequential\n",
    "from keras.layers import Dense, Activation, Flatten, Reshape, Conv2D, Conv2DTranspose, UpSampling2D\n",
    "from keras.layers import LeakyReLU, Dropout, BatchNormalization\n",
    "from keras.optimizers import Adam, RMSprop\n",
    "\n",
    "import matplotlib.pyplot as plt"
   ]
  },
  {
   "cell_type": "code",
   "execution_count": 2,
   "metadata": {},
   "outputs": [],
   "source": [
    "from keras.datasets import mnist\n",
    "(X_train, y_train), (X_test, y_test) = mnist.load_data()"
   ]
  },
  {
   "cell_type": "markdown",
   "metadata": {},
   "source": [
    "We will reshape our data, so the algorithm is easily adaptable to multichannel images, eg. RGB. We also scale it, so the input values are contained in [0,1] interval."
   ]
  },
  {
   "cell_type": "code",
   "execution_count": 3,
   "metadata": {},
   "outputs": [],
   "source": [
    "X_train = X_train.reshape(-1,28,28,1)\n",
    "X_train = X_train.astype('float32')/255\n",
    "data_num = X_train.shape[0]"
   ]
  },
  {
   "cell_type": "markdown",
   "metadata": {},
   "source": [
    "Next step is creating discriminator. We define a function which takes as input list of numbers of filters in *Conv2D* layers, parameter *alpha* for _LeakyReLU_ layers, type of optimizer in compilation of the model, and dropout value. We use *strides* in *Conv2D* instead of *MaxPooling*. We choose filter shape to be (5,5) in every *Conv2D* layer."
   ]
  },
  {
   "cell_type": "code",
   "execution_count": 4,
   "metadata": {},
   "outputs": [],
   "source": [
    "def create_discriminator(filters, alpha, optimizer, dropout): \n",
    "    discriminator = Sequential()\n",
    "    discriminator.add(Conv2D(filters[0], 5, strides=2, input_shape=X_train.shape[1:]))\n",
    "    discriminator.add(LeakyReLU(alpha=alpha))\n",
    "    discriminator.add(Dropout(dropout))\n",
    "    discriminator.add(Conv2D(filters[1], 5, strides=2, padding='same'))\n",
    "    discriminator.add(LeakyReLU(alpha=alpha))\n",
    "    discriminator.add(Dropout(dropout))\n",
    "    discriminator.add(Conv2D(filters[2], 5, strides=2, padding='same'))\n",
    "    discriminator.add(LeakyReLU(alpha=alpha))\n",
    "    discriminator.add(Dropout(dropout))\n",
    "    discriminator.add(Conv2D(filters[3], 5, strides=1, padding='same'))\n",
    "    discriminator.add(LeakyReLU(alpha=alpha))\n",
    "    discriminator.add(Dropout(dropout))\n",
    "    discriminator.add(Flatten())\n",
    "    discriminator.add(Dense(1, activation='sigmoid'))\n",
    "    discriminator.compile(loss='binary_crossentropy', optimizer=optimizer, metrics=['accuracy'])\n",
    "    return discriminator"
   ]
  },
  {
   "cell_type": "markdown",
   "metadata": {},
   "source": [
    "Now we build generator model. To do this we define a function which takes as input:\n",
    "* *dim* = $\\frac{1}{4}$ of image side size. After two *UpSampling2D* layers we get image of shape $4*dim \\times 4*dim$. \n",
    "* *depth*  - starting number of filters in convolutional layers. This is gradually reduced to 1 \n",
    "* *input_dim* - size of one-dimensional noise vector\n",
    "* *momentum* - parameter in BatchNotmalization layers\n",
    "* *dropout* - dropout value\n",
    "\n",
    "The function outputs a model that takes as input noise vector and outputs an image of shape $(4*dim, 4*dim,1)$"
   ]
  },
  {
   "cell_type": "code",
   "execution_count": 5,
   "metadata": {
    "scrolled": true
   },
   "outputs": [],
   "source": [
    "def create_generator(dim, depth, input_dim, momentum, dropout):\n",
    "    generator = Sequential()\n",
    "    \n",
    "    generator.add(Dense(dim*dim*depth, input_dim=100))\n",
    "    generator.add(BatchNormalization(momentum=momentum))\n",
    "    generator.add(Activation('relu'))\n",
    "    generator.add(Reshape((dim, dim, depth)))\n",
    "    generator.add(Dropout(dropout))\n",
    "\n",
    "\n",
    "    generator.add(UpSampling2D())\n",
    "    generator.add(Conv2DTranspose(int(depth/2), 5, padding='same'))\n",
    "    generator.add(BatchNormalization(momentum=momentum))\n",
    "    generator.add(Activation('relu'))\n",
    "    \n",
    "\n",
    "    generator.add(UpSampling2D())\n",
    "    generator.add(Conv2DTranspose(int(depth/4), 5, padding='same'))\n",
    "    generator.add(BatchNormalization(momentum=momentum))\n",
    "    generator.add(Activation('relu'))    \n",
    "\n",
    "    generator.add(Conv2DTranspose(int(depth/8), 5, padding='same'))\n",
    "    generator.add(BatchNormalization(momentum=momentum))\n",
    "    generator.add(Activation('relu'))\n",
    "\n",
    "    generator.add(Conv2DTranspose(1, 5, padding='same'))\n",
    "    generator.add(Activation('sigmoid'))\n",
    "    return generator"
   ]
  },
  {
   "cell_type": "markdown",
   "metadata": {},
   "source": [
    "After creating generator and discriminator, we are ready to join them together and build adversarial model. We will train adversarial after training disciminator, and we want to freeze parameters learned by discriminator, so that during adversarial training only parameters from generator part will be updated."
   ]
  },
  {
   "cell_type": "code",
   "execution_count": 6,
   "metadata": {},
   "outputs": [],
   "source": [
    "def create_adversarial(generator, discriminator, optimizer):\n",
    "    adversarial = Sequential()\n",
    "    adversarial.add(generator)\n",
    "    adversarial.add(discriminator)\n",
    "    adversarial.layers[1].trainable = False\n",
    "    adversarial.compile(loss='binary_crossentropy', optimizer=optimizer,metrics=['accuracy'])\n",
    "    return adversarial"
   ]
  },
  {
   "cell_type": "markdown",
   "metadata": {},
   "source": [
    "Let us define function which trains our GAN network. "
   ]
  },
  {
   "cell_type": "code",
   "execution_count": 7,
   "metadata": {
    "scrolled": true
   },
   "outputs": [],
   "source": [
    "def train_GAN(epochs, batch_size, generator, adversarial):\n",
    "    batches = int(data_num/batch_size)\n",
    "    d_losses = []\n",
    "    d_accuracies = []\n",
    "    a_losses = []\n",
    "    a_accuracies =[]\n",
    "    for i in range(epochs):\n",
    "        print(\"Epoch:\",i)\n",
    "        list_idx = list(range(data_num))\n",
    "        np.random.shuffle(list_idx)\n",
    "        list_idx = list_idx[:batch_size*batches]\n",
    "        batches_idx=np.split(np.array(list_idx), batches)\n",
    "        for j in range(batches):\n",
    "            images_train = X_train[batches_idx[j]]\n",
    "            noise = np.random.uniform(-1.0, 1.0, size=[batch_size, 100])\n",
    "            images_fake = generator.predict(noise)\n",
    "            x = np.concatenate((images_train, images_fake))\n",
    "            y = np.ones([2*batch_size, 1])\n",
    "            y[batch_size:, :] = 0\n",
    "            d_loss, d_acc = discriminator.train_on_batch(x, y)\n",
    "            d_losses.append(d_loss)\n",
    "            d_accuracies.append(d_acc)\n",
    "            y = np.ones([batch_size, 1])\n",
    "            noise = np.random.uniform(-1.0, 1.0, size=[batch_size, 100])\n",
    "            a_loss, a_acc = adversarial.train_on_batch(noise, y)\n",
    "            a_losses.append(a_loss)\n",
    "            d_accuracies.append(d_acc)\n",
    "        \n",
    "    return d_losses, d_accuracies, a_losses , a_accuracies"
   ]
  },
  {
   "cell_type": "code",
   "execution_count": 8,
   "metadata": {},
   "outputs": [],
   "source": [
    "optimizer_d = RMSprop(lr=0.0008, clipvalue=1.0, decay=1e-8)\n",
    "optimizer_a = Adam(lr=0.0004, clipvalue=1.0, decay=1e-10)"
   ]
  },
  {
   "cell_type": "code",
   "execution_count": 9,
   "metadata": {
    "scrolled": true
   },
   "outputs": [
    {
     "name": "stdout",
     "output_type": "stream",
     "text": [
      "Epoch: 0\n"
     ]
    },
    {
     "name": "stderr",
     "output_type": "stream",
     "text": [
      "/home/agnieszka/.local/lib/python3.6/site-packages/keras/engine/training.py:479: UserWarning: Discrepancy between trainable weights and collected trainable weights, did you set `model.trainable` without calling `model.compile` after ?\n",
      "  'Discrepancy between trainable weights and collected trainable'\n"
     ]
    },
    {
     "name": "stdout",
     "output_type": "stream",
     "text": [
      "Epoch: 1\n",
      "Epoch: 2\n",
      "Epoch: 3\n",
      "Epoch: 4\n",
      "Epoch: 5\n",
      "Epoch: 6\n",
      "Epoch: 7\n",
      "Epoch: 8\n",
      "Epoch: 9\n",
      "Epoch: 10\n",
      "Epoch: 11\n",
      "Epoch: 12\n",
      "Epoch: 13\n",
      "Epoch: 14\n",
      "Epoch: 15\n",
      "Epoch: 16\n",
      "Epoch: 17\n",
      "Epoch: 18\n",
      "Epoch: 19\n",
      "Epoch: 20\n",
      "Epoch: 21\n",
      "Epoch: 22\n",
      "Epoch: 23\n",
      "Epoch: 24\n",
      "Epoch: 25\n",
      "Epoch: 26\n",
      "Epoch: 27\n",
      "Epoch: 28\n",
      "Epoch: 29\n",
      "Epoch: 30\n",
      "Epoch: 31\n",
      "Epoch: 32\n",
      "Epoch: 33\n",
      "Epoch: 34\n",
      "Epoch: 35\n",
      "Epoch: 36\n",
      "Epoch: 37\n",
      "Epoch: 38\n",
      "Epoch: 39\n",
      "Epoch: 40\n",
      "Epoch: 41\n",
      "Epoch: 42\n",
      "Epoch: 43\n",
      "Epoch: 44\n",
      "Epoch: 45\n",
      "Epoch: 46\n",
      "Epoch: 47\n",
      "Epoch: 48\n",
      "Epoch: 49\n"
     ]
    }
   ],
   "source": [
    "discriminator = create_discriminator(filters =[64,128,256,512], alpha=0.2, optimizer=optimizer_d, dropout=0.4)\n",
    "generator = create_generator(dim=7, depth=256, input_dim=100, momentum=0.9, dropout=0.4)\n",
    "adversarial = create_adversarial(generator, discriminator, optimizer=optimizer_a)\n",
    "d_losses, d_accuracies, a_losses , a_accuracies=\\\n",
    "                                    train_GAN(epochs=50, batch_size=256, generator=generator, adversarial=adversarial)"
   ]
  },
  {
   "cell_type": "code",
   "execution_count": 11,
   "metadata": {},
   "outputs": [
    {
     "data": {
      "image/png": "[encoded data removed]",
      "text/plain": [
       "<Figure size 864x288 with 8 Axes>"
      ]
     },
     "metadata": {},
     "output_type": "display_data"
    }
   ],
   "source": [
    "noise = np.random.uniform(-1.0, 1.0, size=[8, 100])\n",
    "plt.figure(figsize=(12,4))\n",
    "for i in range(1,9):\n",
    "    plt.subplot(1, 8, i)\n",
    "    plt.imshow(generator.predict(noise)[i-1][:,:,0], cmap = 'gray_r')\n",
    "    plt.axis('off')\n",
    "plt.show()"
   ]
  },
  {
   "cell_type": "code",
   "execution_count": 12,
   "metadata": {},
   "outputs": [
    {
     "data": {
      "text/plain": [
       "[<matplotlib.lines.Line2D at 0x7f90e58324a8>]"
      ]
     },
     "execution_count": 12,
     "metadata": {},
     "output_type": "execute_result"
    },
    {
     "data": {
      "image/png": "[encoded data removed]",
      "text/plain": [
       "<Figure size 432x288 with 1 Axes>"
      ]
     },
     "metadata": {},
     "output_type": "display_data"
    }
   ],
   "source": [
    "plt.plot(a_losses)"
   ]
  },
  {
   "cell_type": "code",
   "execution_count": null,
   "metadata": {},
   "outputs": [],
   "source": [
    "plt.plot(d_losses)"
   ]
  },
  {
   "cell_type": "code",
   "execution_count": null,
   "metadata": {},
   "outputs": [],
   "source": [
    "plt.plot(d_accuracies)"
   ]
  },
  {
   "cell_type": "code",
   "execution_count": null,
   "metadata": {},
   "outputs": [],
   "source": []
  }
 ],
 "metadata": {
  "kernelspec": {
   "display_name": "Python 3",
   "language": "python",
   "name": "python3"
  },
  "language_info": {
   "codemirror_mode": {
    "name": "ipython",
    "version": 3
   },
   "file_extension": ".py",
   "mimetype": "text/x-python",
   "name": "python",
   "nbconvert_exporter": "python",
   "pygments_lexer": "ipython3",
   "version": "3.6.5"
  }
 },
 "nbformat": 4,
 "nbformat_minor": 2
}
