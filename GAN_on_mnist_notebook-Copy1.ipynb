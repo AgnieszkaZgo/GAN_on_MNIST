{
 "cells": [
  {
   "cell_type": "markdown",
   "metadata": {},
   "source": [
    "# Generative Adversarial Network on MNIST database using Keras."
   ]
  },
  {
   "cell_type": "markdown",
   "metadata": {},
   "source": [
    "## 1. Preparation "
   ]
  },
  {
   "cell_type": "markdown",
   "metadata": {},
   "source": [
    "We start our project with importing all python tools needed. We also import MNIST database with 60000 images of handwritten digits."
   ]
  },
  {
   "cell_type": "code",
   "execution_count": 1,
   "metadata": {
    "scrolled": true
   },
   "outputs": [
    {
     "name": "stderr",
     "output_type": "stream",
     "text": [
      "/home/agnieszka/anaconda3/lib/python3.6/site-packages/h5py/__init__.py:36: FutureWarning: Conversion of the second argument of issubdtype from `float` to `np.floating` is deprecated. In future, it will be treated as `np.float64 == np.dtype(float).type`.\n",
      "  from ._conv import register_converters as _register_converters\n",
      "Using TensorFlow backend.\n"
     ]
    }
   ],
   "source": [
    "import numpy as np\n",
    "\n",
    "from keras.models import Sequential\n",
    "from keras.layers import Dense, Activation, Flatten, Reshape, Conv2D, Conv2DTranspose, UpSampling2D\n",
    "from keras.layers import LeakyReLU, Dropout, BatchNormalization\n",
    "from keras.optimizers import Adam, RMSprop\n",
    "\n",
    "import matplotlib.pyplot as plt"
   ]
  },
  {
   "cell_type": "code",
   "execution_count": 2,
   "metadata": {},
   "outputs": [],
   "source": [
    "from keras.datasets import mnist\n",
    "(X_train, y_train), (X_test, y_test) = mnist.load_data() #load the data"
   ]
  },
  {
   "cell_type": "markdown",
   "metadata": {},
   "source": [
    "We reshape our data, so the algorithm is easily adaptable to multichannel images, e.g. RGB. We also scale it, so the input values are contained in [0,1] interval."
   ]
  },
  {
   "cell_type": "code",
   "execution_count": 3,
   "metadata": {},
   "outputs": [],
   "source": [
    "X_train = X_train.reshape(-1,28,28,1).astype('float32')/255 # reshape, change type to float and scale\n",
    "data_num = X_train.shape[0] # number of images in train set"
   ]
  },
  {
   "cell_type": "markdown",
   "metadata": {},
   "source": [
    "## 2. Building components of GAN"
   ]
  },
  {
   "cell_type": "markdown",
   "metadata": {},
   "source": [
    "Next step is building a function that creates discriminator. The function takes as input list of numbers of filters in *Conv2D* layers, parameter *alpha* for _LeakyReLU_ layers, type of optimizer in compilation of the model, and dropout value. We use *strides* in *Conv2D* instead of *MaxPooling*. We choose filter shape to be (5,5) in every *Conv2D* layer."
   ]
  },
  {
   "cell_type": "code",
   "execution_count": 4,
   "metadata": {},
   "outputs": [],
   "source": [
    "def create_discriminator(filters, alpha, optimizer, dropout): \n",
    "    \n",
    "    discriminator = Sequential()\n",
    "    \n",
    "    discriminator.add(Conv2D(filters[0], 5, strides=2, input_shape=X_train.shape[1:])) \n",
    "    discriminator.add(LeakyReLU(alpha=alpha))\n",
    "    discriminator.add(Dropout(dropout))\n",
    "    \n",
    "    discriminator.add(Conv2D(filters[1], 5, strides=2, padding='same'))\n",
    "    discriminator.add(LeakyReLU(alpha=alpha))\n",
    "    discriminator.add(Dropout(dropout))\n",
    "    \n",
    "    discriminator.add(Conv2D(filters[2], 5, strides=2, padding='same'))\n",
    "    discriminator.add(LeakyReLU(alpha=alpha))\n",
    "    discriminator.add(Dropout(dropout))\n",
    "    \n",
    "    discriminator.add(Conv2D(filters[3], 5, strides=1, padding='same'))\n",
    "    discriminator.add(LeakyReLU(alpha=alpha))\n",
    "    discriminator.add(Dropout(dropout))\n",
    "    \n",
    "    discriminator.add(Flatten())\n",
    "    discriminator.add(Dense(1, activation='sigmoid'))\n",
    "    \n",
    "    discriminator.compile(loss='binary_crossentropy', optimizer=optimizer, metrics=['accuracy'])\n",
    "    \n",
    "    return discriminator"
   ]
  },
  {
   "cell_type": "markdown",
   "metadata": {},
   "source": [
    "Now we build function that creates generator model. The function takes as input:\n",
    "* *dim* = $\\frac{1}{4}$ of image side size. After two *UpSampling2D* layers we get image of shape $4*dim \\times 4*dim$. \n",
    "* *depth*  - starting number of filters in convolutional layers. This is gradually reduced to 1 \n",
    "* *input_dim* - size of one-dimensional noise vector\n",
    "* *momentum* - parameter in BatchNotmalization layers\n",
    "* *dropout* - dropout value\n",
    "\n",
    "The function outputs a model that takes as input noise vector and outputs an image of shape $(4*dim, 4*dim,1)$"
   ]
  },
  {
   "cell_type": "code",
   "execution_count": 5,
   "metadata": {
    "scrolled": true
   },
   "outputs": [],
   "source": [
    "def create_generator(dim, depth, input_dim, momentum, dropout):\n",
    "    \n",
    "    generator = Sequential()\n",
    "    \n",
    "    generator.add(Dense(dim*dim*depth, input_dim=100))\n",
    "    generator.add(BatchNormalization(momentum=momentum))\n",
    "    generator.add(Activation('relu'))\n",
    "    generator.add(Reshape((dim, dim, depth)))\n",
    "    generator.add(Dropout(dropout))\n",
    "\n",
    "\n",
    "    generator.add(UpSampling2D())\n",
    "    generator.add(Conv2DTranspose(int(depth/2), 5, padding='same'))\n",
    "    generator.add(BatchNormalization(momentum=momentum))\n",
    "    generator.add(Activation('relu'))\n",
    "    \n",
    "\n",
    "    generator.add(UpSampling2D())\n",
    "    generator.add(Conv2DTranspose(int(depth/4), 5, padding='same'))\n",
    "    generator.add(BatchNormalization(momentum=momentum))\n",
    "    generator.add(Activation('relu'))    \n",
    "\n",
    "    generator.add(Conv2DTranspose(int(depth/8), 5, padding='same'))\n",
    "    generator.add(BatchNormalization(momentum=momentum))\n",
    "    generator.add(Activation('relu'))\n",
    "\n",
    "    generator.add(Conv2DTranspose(1, 5, padding='same'))\n",
    "    generator.add(Activation('sigmoid'))\n",
    "    return generator"
   ]
  },
  {
   "cell_type": "markdown",
   "metadata": {},
   "source": [
    "We are ready to join generator and discriminator together and build a function to create adversarial model. We will train adversarial after training disciminator, and we want to freeze parameters learned by discriminator, so that during adversarial training only parameters from generator will be updated."
   ]
  },
  {
   "cell_type": "code",
   "execution_count": 6,
   "metadata": {},
   "outputs": [],
   "source": [
    "def create_adversarial(generator, discriminator, optimizer):\n",
    "    \n",
    "    adversarial = Sequential()\n",
    "    \n",
    "    adversarial.add(generator)\n",
    "    adversarial.add(discriminator)\n",
    "    \n",
    "    adversarial.layers[1].trainable = False\n",
    "    \n",
    "    adversarial.compile(loss='binary_crossentropy', optimizer=optimizer,metrics=['accuracy'])\n",
    "    \n",
    "    return adversarial"
   ]
  },
  {
   "cell_type": "markdown",
   "metadata": {},
   "source": [
    "## 3. Training algorithm"
   ]
  },
  {
   "cell_type": "markdown",
   "metadata": {},
   "source": [
    "Let us define function which trains our GAN network. "
   ]
  },
  {
   "cell_type": "code",
   "execution_count": 7,
   "metadata": {
    "scrolled": true
   },
   "outputs": [],
   "source": [
    "def train_GAN(epochs, batch_size, generator, adversarial):\n",
    "    \n",
    "    batches = int(data_num/batch_size) # number of batches\n",
    "    \n",
    "    d_losses = []           # create a list to store values of loss function for discriminator\n",
    "    d_accuracies = []       # create a list to store values of accuracy for discriminator\n",
    "    a_losses = []           # create a list to store values of loss function for adversarial\n",
    "    a_accuracies =[]        # create a list to store values of accuracy for adversarial\n",
    "    \n",
    "    for i in range(epochs):\n",
    "        \n",
    "        # Create list of indices for each batch in current epoch \n",
    "        \n",
    "        list_idx = list(range(data_num))                  # list of indices representing input data \n",
    "        \n",
    "        np.random.shuffle(list_idx)                       # shuffle indices\n",
    "        \n",
    "        list_idx = list_idx[:batch_size*batches]          # take maximal amount of indices that is \n",
    "                                                          # multiple of batch size\n",
    "            \n",
    "        batches_idx=np.split(np.array(list_idx), batches) # split shuffled list into arrays of \n",
    "                                                          # equal size, output: list of arrays\n",
    "        \n",
    "        for j in range(batches):\n",
    "            \n",
    "            images_train = X_train[batches_idx[j]]  # take data corresponding to \n",
    "                                                    # indices for current batch\n",
    "            \n",
    "            # create 100 random noise vectors:\n",
    "            noise = np.random.uniform(-1.0, 1.0, size=[batch_size, 100])\n",
    "            # generate fake images:\n",
    "            images_fake = generator.predict(noise)                       \n",
    "            \n",
    "            # join real and fake images:\n",
    "            x = np.concatenate((images_train, images_fake))              \n",
    "            y = np.ones([2*batch_size, 1])\n",
    "            # label fake images with 0\n",
    "            y[batch_size:, :] = 0                                        \n",
    "            \n",
    "            # train disciminator to distinguish between real and fake images,\n",
    "            # output: loss function, accuracy\n",
    "            d_loss, d_acc = discriminator.train_on_batch(x, y)            \n",
    "            \n",
    "            # store loss function and accuracy\n",
    "            d_losses.append(d_loss)\n",
    "            d_accuracies.append(d_acc)\n",
    "            \n",
    "            # create list of labels equal 1\n",
    "            y = np.ones([batch_size, 1])\n",
    "            #create 100 random noise vectors\n",
    "            noise = np.random.uniform(-1.0, 1.0, size=[batch_size, 100]) \n",
    "            \n",
    "            # train adversarial on noise vectors with labels 1\n",
    "            a_loss, a_acc = adversarial.train_on_batch(noise, y) \n",
    "            \n",
    "            # store loss function and accuracy\n",
    "            a_losses.append(a_loss)\n",
    "            a_accuracies.append(a_acc)\n",
    "        \n",
    "    return d_losses, d_accuracies, a_losses , a_accuracies"
   ]
  },
  {
   "cell_type": "markdown",
   "metadata": {},
   "source": [
    "## 4.  Training the network"
   ]
  },
  {
   "cell_type": "markdown",
   "metadata": {},
   "source": [
    "Let us now define optimizers for discriminator and adversarial models."
   ]
  },
  {
   "cell_type": "code",
   "execution_count": 8,
   "metadata": {},
   "outputs": [],
   "source": [
    "optimizer_d = RMSprop(lr=0.0008, clipvalue=1.0, decay=1e-8)\n",
    "optimizer_a = Adam(lr=0.0004, clipvalue=1.0, decay=1e-10)"
   ]
  },
  {
   "cell_type": "code",
   "execution_count": 9,
   "metadata": {},
   "outputs": [
    {
     "name": "stderr",
     "output_type": "stream",
     "text": [
      "/home/agnieszka/.local/lib/python3.6/site-packages/keras/engine/training.py:479: UserWarning: Discrepancy between trainable weights and collected trainable weights, did you set `model.trainable` without calling `model.compile` after ?\n",
      "  'Discrepancy between trainable weights and collected trainable'\n"
     ]
    }
   ],
   "source": [
    "# Build discriminator, generator and adversarial models using defined functions\n",
    "discriminator = create_discriminator(filters =[64,128,256,512], alpha=0.2, optimizer=optimizer_d, dropout=0.4)\n",
    "generator = create_generator(dim=7, depth=256, input_dim=100, momentum=0.9, dropout=0.3)\n",
    "adversarial = create_adversarial(generator, discriminator, optimizer=optimizer_a)\n",
    "\n",
    "# Train GAN network\n",
    "d_losses, d_accuracies, a_losses , a_accuracies=\\\n",
    "                                    train_GAN(epochs=30, batch_size=256, generator=generator, adversarial=adversarial)"
   ]
  },
  {
   "cell_type": "markdown",
   "metadata": {},
   "source": [
    "## 5. Generate images with GAN"
   ]
  },
  {
   "cell_type": "code",
   "execution_count": 10,
   "metadata": {},
   "outputs": [
    {
     "data": {
      "image/png": "[encoded data removed]",
      "text/plain": [
       "<Figure size 864x288 with 10 Axes>"
      ]
     },
     "metadata": {},
     "output_type": "display_data"
    }
   ],
   "source": [
    "noise = np.random.uniform(-1.0, 1.0, size=[10, 100])\n",
    "plt.figure(figsize=(12,4))\n",
    "for i in range(1,11):\n",
    "    plt.subplot(1, 10, i)\n",
    "    plt.imshow(generator.predict(noise)[i-1][:,:,0], cmap = 'gray_r')\n",
    "    plt.axis('off')\n",
    "plt.show()"
   ]
  },
  {
   "cell_type": "markdown",
   "metadata": {},
   "source": [
    "## 6. Loss function and accuracy\n",
    "\n",
    "We want to see how loss function and accuracy of discriminator and adversarial changes with increasing number of epoch.\n"
   ]
  },
  {
   "cell_type": "code",
   "execution_count": 11,
   "metadata": {},
   "outputs": [],
   "source": [
    "epochs=30"
   ]
  },
  {
   "cell_type": "code",
   "execution_count": 12,
   "metadata": {},
   "outputs": [],
   "source": [
    "# Calculate mean loss for every epoch for adversarial and discriminator models\n",
    "a_losses = [np.mean(arr) for arr in np.split(np.array(a_losses), epochs)]\n",
    "d_losses = [np.mean(arr) for arr in np.split(np.array(d_losses), epochs)]\n",
    "\n",
    "# Calculate mean accuracy for every epoch for adversarial and discriminator models\n",
    "a_accuracies = [np.mean(arr) for arr in np.split(np.array(a_accuracies), epochs)]\n",
    "d_accuracies = [np.mean(arr) for arr in np.split(np.array(d_accuracies), epochs)]"
   ]
  },
  {
   "cell_type": "markdown",
   "metadata": {},
   "source": [
    "Plot loss function."
   ]
  },
  {
   "cell_type": "code",
   "execution_count": 20,
   "metadata": {},
   "outputs": [
    {
     "data": {
      "image/png": "[encoded data removed]",
      "text/plain": [
       "<Figure size 864x576 with 1 Axes>"
      ]
     },
     "metadata": {},
     "output_type": "display_data"
    }
   ],
   "source": [
    "plt.figure(figsize=(12,8))\n",
    "\n",
    "plt.plot(a_losses, label= 'Adversarial loss function', c='b', marker= 'o')\n",
    "plt.plot(d_losses, label = 'Disciminator loss function', c='r', marker= 'o')\n",
    "\n",
    "plt.xticks(np.arange(0,16)*2, np.arange(0,16)*2+1)\n",
    "plt.yticks(np.arange(0.5,2.1,0.1))\n",
    "\n",
    "plt.xlabel('Number of epoch', fontsize=20)\n",
    "plt.ylabel('Loss function', fontsize=20)\n",
    "\n",
    "plt.legend(shadow=True, fontsize=14)\n",
    "\n",
    "plt.show()"
   ]
  },
  {
   "cell_type": "markdown",
   "metadata": {},
   "source": [
    "Plot accuracies."
   ]
  },
  {
   "cell_type": "code",
   "execution_count": 14,
   "metadata": {},
   "outputs": [
    {
     "data": {
      "image/png": "[encoded data removed]",
      "text/plain": [
       "<Figure size 864x576 with 1 Axes>"
      ]
     },
     "metadata": {},
     "output_type": "display_data"
    }
   ],
   "source": [
    "plt.figure(figsize=(12,8))\n",
    "\n",
    "plt.plot(a_accuracies, label = 'Adversarial accuracy', c='b', marker= 'o')\n",
    "plt.plot(d_accuracies, label = 'Disciminator accuracy', c='r', marker= 'o')\n",
    "\n",
    "plt.xticks(np.arange(0,16)*2, np.arange(0,16)*2+1)\n",
    "plt.yticks(np.arange(0.2,0.8,0.05))\n",
    "\n",
    "plt.xlabel('Number of epoch', fontsize=20)\n",
    "plt.ylabel('Accuracy', fontsize=20)\n",
    "\n",
    "plt.legend(shadow=True, fontsize=14)\n",
    "\n",
    "plt.show()"
   ]
  },
  {
   "cell_type": "code",
   "execution_count": null,
   "metadata": {},
   "outputs": [],
   "source": []
  }
 ],
 "metadata": {
  "kernelspec": {
   "display_name": "Python 3",
   "language": "python",
   "name": "python3"
  },
  "language_info": {
   "codemirror_mode": {
    "name": "ipython",
    "version": 3
   },
   "file_extension": ".py",
   "mimetype": "text/x-python",
   "name": "python",
   "nbconvert_exporter": "python",
   "pygments_lexer": "ipython3",
   "version": "3.6.5"
  }
 },
 "nbformat": 4,
 "nbformat_minor": 2
}
